{
 "cells": [
  {
   "cell_type": "markdown",
   "metadata": {},
   "source": [
    "### Aproximação da $ \\sqrt 2 $"
   ]
  },
  {
   "cell_type": "code",
   "execution_count": null,
   "metadata": {},
   "outputs": [],
   "source": [
    "Valor_1 = 1\n",
    "Valor_2 = 2\n",
    "contador = 0\n",
    "\n",
    "while ( contador < 50 ):\n",
    "\n",
    "    media = (Valor_1 + Valor_2)/2\n",
    "\n",
    "    if min(media*media, Valor_1*Valor_1) < 2 < max(media*media, Valor_1*Valor_1):\n",
    "\n",
    "        Valor_1 = Valor_1\n",
    "        Valor_2 = media\n",
    "\n",
    "    else:\n",
    "\n",
    "        Valor_2 = Valor_2\n",
    "        Valor_1 = media\n",
    "\n",
    "    contador = contador + 1\n",
    "    print(media)\n",
    "\n",
    "# Só para brincar um pouco mais eu quero gerar um tabela para colocar os valores de (Valor_1 e Valor_2 e Media)"
   ]
  },
  {
   "cell_type": "markdown",
   "metadata": {},
   "source": [
    "### Aproximação de  $ \\pi $"
   ]
  },
  {
   "cell_type": "markdown",
   "metadata": {},
   "source": [
    "#### 1° Versão - Simples\n",
    "\n",
    "Ultilze a seguinte fórmula geral:\n",
    "\\begin{equation*}\n",
    "  \\pi_n = \\pi_{n-1} + \\frac{4(-1)^n}{2n+1}\n",
    "\\end{equation*}"
   ]
  },
  {
   "cell_type": "code",
   "execution_count": null,
   "metadata": {},
   "outputs": [],
   "source": [
    "Contador = 10\n",
    "Pi_Valor = 4\n",
    "\n",
    "for i in range(1,Contador):\n",
    "    Pi_Valor = Pi_Valor + 4*(-1)**(i)/float(2*i+1)\n",
    "\n",
    "    print(Contador,Pi_Valor)"
   ]
  },
  {
   "cell_type": "markdown",
   "metadata": {},
   "source": [
    "#### 2° Versão - Contempla o Erro"
   ]
  },
  {
   "cell_type": "code",
   "execution_count": null,
   "metadata": {},
   "outputs": [],
   "source": [
    "Contador = 1\n",
    "Pi_Sucessor = 4\n",
    "Pi_Anterior = 4\n",
    "Erro = 1\n",
    "precisao = 2\n",
    "Erro_requerido = 10**(-precisao)\n",
    "\n",
    "while Erro > Erro_requerido:\n",
    "    \n",
    "    #Aquisição de um valor de um valor mais aproximado de Pi\n",
    "    Pi_Sucessor = Pi_Anterior + 4*(-1)**(Contador)/float(2*Contador+1)\n",
    "\n",
    "    #Calculando o Erro possível entre os valores obtidos\n",
    "    Erro = abs(Pi_Sucessor - Pi_Anterior)\n",
    "\n",
    "    #Salvando o valor de Pi antes da Função\n",
    "    Pi_Anterior = Pi_Sucessor\n",
    "    \n",
    "    #Contator\n",
    "    Contador += 1\n",
    "\n",
    "    print(Contador,(f\"%.{precisao}f\" % Pi_Sucessor))"
   ]
  },
  {
   "cell_type": "markdown",
   "metadata": {},
   "source": [
    "#### 3° Versão - Com função para o usuário!"
   ]
  },
  {
   "cell_type": "code",
   "execution_count": 28,
   "metadata": {},
   "outputs": [
    {
     "name": "stdout",
     "output_type": "stream",
     "text": [
      "3.142 0.000999750062484317\n"
     ]
    }
   ],
   "source": [
    "precisao = int(input(\"Com quantas casas decimais você quer a precisão de pi? \"))\n",
    "\n",
    "def calcule_pi(precisao):\n",
    "\n",
    "    Contador = 1\n",
    "    Pi_Sucessor = 4\n",
    "    Pi_Anterior = 4\n",
    "    Erro = 1\n",
    "    Erro_requerido = 10**(- precisao)\n",
    "\n",
    "    while Erro > Erro_requerido:\n",
    "    \n",
    "        #Aquisição de um valor de um valor mais aproximado de Pi\n",
    "        Pi_Sucessor = Pi_Anterior + 4*(-1)**(Contador)/float(2*Contador+1)\n",
    "\n",
    "        #Calculando o Erro possível entre os valores obtidos\n",
    "        Erro = abs(Pi_Sucessor - Pi_Anterior)\n",
    "\n",
    "        #Salvando o valor de Pi antes da Função\n",
    "        Pi_Anterior = Pi_Sucessor\n",
    "    \n",
    "        #Contator\n",
    "        Contador += 1\n",
    "\n",
    "    return Pi_Sucessor,Erro\n",
    "\n",
    "pi,e  = calcule_pi(precisao)\n",
    "\n",
    "print((f\"%.{precisao}f\" % Pi_Sucessor),e)\n",
    "\n"
   ]
  }
 ],
 "metadata": {
  "kernelspec": {
   "display_name": "Python 3",
   "language": "python",
   "name": "python3"
  },
  "language_info": {
   "codemirror_mode": {
    "name": "ipython",
    "version": 3
   },
   "file_extension": ".py",
   "mimetype": "text/x-python",
   "name": "python",
   "nbconvert_exporter": "python",
   "pygments_lexer": "ipython3",
   "version": "3.12.5"
  }
 },
 "nbformat": 4,
 "nbformat_minor": 2
}
