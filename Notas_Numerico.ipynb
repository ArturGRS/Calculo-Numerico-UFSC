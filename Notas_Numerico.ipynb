{
 "cells": [
  {
   "cell_type": "markdown",
   "metadata": {},
   "source": [
    "### Aproximação da $ \\sqrt 2 $"
   ]
  },
  {
   "cell_type": "code",
   "execution_count": null,
   "metadata": {},
   "outputs": [],
   "source": [
    "Valor_1 = 1\n",
    "Valor_2 = 2\n",
    "contador = 0\n",
    "\n",
    "while ( contador < 50 ):\n",
    "\n",
    "    media = (Valor_1 + Valor_2)/2\n",
    "\n",
    "    if min(media*media, Valor_1*Valor_1) < 2 < max(media*media, Valor_1*Valor_1):\n",
    "\n",
    "        Valor_1 = Valor_1\n",
    "        Valor_2 = media\n",
    "\n",
    "    else:\n",
    "\n",
    "        Valor_2 = Valor_2\n",
    "        Valor_1 = media\n",
    "\n",
    "    contador = contador + 1\n",
    "    print(media)\n",
    "\n",
    "# Só para brincar um pouco mais eu quero gerar um tabela para colocar os valores de (Valor_1 e Valor_2 e Media)"
   ]
  },
  {
   "cell_type": "markdown",
   "metadata": {},
   "source": [
    "### Aproximação de  $ \\pi $"
   ]
  },
  {
   "cell_type": "markdown",
   "metadata": {},
   "source": [
    "#### 1° Versão - Simples\n",
    "\n",
    "Ultilze a seguinte fórmula geral:\n",
    "\\begin{equation*}\n",
    "  \\pi_n = \\pi_{n-1} + \\frac{4(-1)^n}{2n+1}\n",
    "\\end{equation*}"
   ]
  },
  {
   "cell_type": "code",
   "execution_count": null,
   "metadata": {},
   "outputs": [],
   "source": [
    "Contador = 10\n",
    "Pi_Valor = 4\n",
    "\n",
    "for i in range(1,Contador):\n",
    "    Pi_Valor = Pi_Valor + 4*(-1)**(i)/float(2*i+1)\n",
    "\n",
    "    print(Contador,Pi_Valor)"
   ]
  },
  {
   "cell_type": "markdown",
   "metadata": {},
   "source": [
    "#### 2° Versão - Contempla o Erro"
   ]
  },
  {
   "cell_type": "code",
   "execution_count": null,
   "metadata": {},
   "outputs": [],
   "source": [
    "Contador = 1\n",
    "Pi_Sucessor = 4\n",
    "Pi_Anterior = 4\n",
    "Erro = 1\n",
    "precisao = 2\n",
    "Erro_requerido = 10**(-precisao)\n",
    "\n",
    "while Erro > Erro_requerido:\n",
    "    \n",
    "    #Aquisição de um valor de um valor mais aproximado de Pi\n",
    "    Pi_Sucessor = Pi_Anterior + 4*(-1)**(Contador)/float(2*Contador+1)\n",
    "\n",
    "    #Calculando o Erro possível entre os valores obtidos\n",
    "    Erro = abs(Pi_Sucessor - Pi_Anterior)\n",
    "\n",
    "    #Salvando o valor de Pi antes da Função\n",
    "    Pi_Anterior = Pi_Sucessor\n",
    "    \n",
    "    #Contator\n",
    "    Contador += 1\n",
    "\n",
    "    print(Contador,(f\"%.{precisao}f\" % Pi_Sucessor))"
   ]
  },
  {
   "cell_type": "markdown",
   "metadata": {},
   "source": [
    "#### 3° Versão - Com função para o usuário!"
   ]
  },
  {
   "cell_type": "code",
   "execution_count": null,
   "metadata": {},
   "outputs": [],
   "source": [
    "precisao = int(input(\"Com quantas casas decimais você quer a precisão de pi? \"))\n",
    "\n",
    "def calcule_pi(precisao):\n",
    "\n",
    "    Contador = 1\n",
    "    Pi_Sucessor = 4\n",
    "    Pi_Anterior = 4\n",
    "    Erro = 1\n",
    "    Erro_requerido = 10**(- precisao-1)\n",
    "\n",
    "    while Erro > Erro_requerido:\n",
    "    \n",
    "        #Aquisição de um valor de um valor mais aproximado de Pi\n",
    "        Pi_Sucessor = Pi_Anterior + 4*(-1)**(Contador)/float(2*Contador+1)\n",
    "\n",
    "        #Calculando o Erro possível entre os valores obtidos\n",
    "        Erro = abs(Pi_Sucessor - Pi_Anterior)\n",
    "\n",
    "        #Salvando o valor de Pi antes da Função\n",
    "        Pi_Anterior = Pi_Sucessor\n",
    "    \n",
    "        #Contator\n",
    "        Contador += 1\n",
    "\n",
    "    return Pi_Sucessor,Erro\n",
    "\n",
    "pi,e  = calcule_pi(precisao)\n",
    "\n",
    "print((f\"%.{precisao+1}f\" % pi),e)\n",
    "\n"
   ]
  },
  {
   "cell_type": "markdown",
   "metadata": {},
   "source": []
  },
  {
   "cell_type": "markdown",
   "metadata": {},
   "source": [
    "### Iteração de Ponto Fixo"
   ]
  },
  {
   "cell_type": "markdown",
   "metadata": {},
   "source": [
    "#### Introdução"
   ]
  },
  {
   "cell_type": "markdown",
   "metadata": {},
   "source": [
    "Equação inicial:  $\\ \\  e^x = x + 2 $\n",
    "\n",
    "1. Foi substituida por $ f(x) = 0 $ ou seja $ f(x) = e^x - x - 2 $\n",
    "2. Posteriormente se escolheu colocar $ x = e^x - 2 $ "
   ]
  },
  {
   "cell_type": "code",
   "execution_count": null,
   "metadata": {},
   "outputs": [],
   "source": [
    "from math import e\n",
    "# Input\n",
    "\n",
    "Variavel = 1\n",
    "Contador = 0\n",
    "\n",
    "# Equação e Repetiçãos\n",
    "\n",
    "while Contador < 10:\n",
    "\n",
    "    Variavel = e**(Variavel) - 2\n",
    "    Contador += 1\n",
    "    print(Variavel)\n"
   ]
  },
  {
   "cell_type": "markdown",
   "metadata": {},
   "source": [
    "Equação discutida em sala\n",
    "\n",
    "Determine uma função de Ponto Fixo para encontrar a solução negativa da equação $ 2^x = x^2 $\n",
    "\n",
    "- Garantia que existe um ponto Ponto Fixo: $ g(x) \\epsilon [a,b] $\n",
    "- Garantia da unicidade do Ponto Fixo: $ |g'(x)| <1 $"
   ]
  },
  {
   "cell_type": "markdown",
   "metadata": {},
   "source": [
    "Definir a $ g(x) $\n",
    "\n",
    "- $ 2^x = x^2 $\n",
    "- $ x = ln_2(x^2) $\n",
    "- $ x = \\pm \\sqrt{2^x} $ Como eu quero somente a negativa $ x = - 2^{\\frac{x}{2}} $\n"
   ]
  },
  {
   "cell_type": "code",
   "execution_count": null,
   "metadata": {},
   "outputs": [],
   "source": [
    "# Input\n",
    "\n",
    "Variavel = float(input(\"Valor inicial: \"))\n",
    "Tolerancia = 10**-(int(input(\"Casas de precisão: \")))\n",
    "Erro = 1\n",
    "Contador = 0\n",
    "\n",
    "# Equação e Repetiçãos\n",
    "\n",
    "while abs(Erro) > abs(Tolerancia):\n",
    "    Variavel_nova = - 2**(Variavel/2)\n",
    "    Erro = Variavel_nova - Variavel\n",
    "    Variavel = Variavel_nova\n",
    "    Contador += 1\n",
    "    print(Contador,Variavel)\n",
    "\n"
   ]
  },
  {
   "cell_type": "code",
   "execution_count": null,
   "metadata": {},
   "outputs": [],
   "source": [
    "# Gráfico da equação\n",
    "\n",
    "import matplotlib.pyplot as plt\n",
    "import numpy as np\n",
    "\n",
    "x = np.linspace(-1,0,5) # (início, fim, quantidade de intervalos)\n",
    "y = -np.power(2,x/2.0) # Equação\n",
    "\n",
    "plt.plot(x,y,\"k-\") # \"k\" significa a cor preta e o \"-\" é o tipo de linha\n",
    "\n",
    "plt.show()\n"
   ]
  },
  {
   "cell_type": "markdown",
   "metadata": {},
   "source": [
    "#### Funções Genéricas"
   ]
  },
  {
   "cell_type": "markdown",
   "metadata": {},
   "source": [
    "*Implemento Criar duas funções:*\n",
    "\n",
    "1. Equação: \n",
    "    - Deve receber: Valor_de_entrada e Retornar um Valor_de_saida\n",
    "2. Algorítimo: \n",
    "    - Deve receber: Função, Chute Inicial, Tolerância e Retornar um Valor_final"
   ]
  },
  {
   "cell_type": "code",
   "execution_count": 26,
   "metadata": {},
   "outputs": [],
   "source": [
    "import math\n",
    "\n",
    "# G1\n",
    "def g1(V):\n",
    "    Valor_de_saida = V - V**3 -4*V**2 + 10\n",
    "    return Valor_de_saida\n",
    "\n",
    "# G2\n",
    "def g2(V):\n",
    "    Valor_de_saida = math.sqrt((10/V)-(4*V))\n",
    "    return Valor_de_saida\n",
    "\n",
    "# G3\n",
    "def g3(V):\n",
    "    Valor_de_saida = (math.sqrt(10-V**3))/2\n",
    "    return Valor_de_saida\n",
    "\n",
    "# G4\n",
    "def g4(V):\n",
    "    Valor_de_saida = math.sqrt(10/(4+V))\n",
    "    return Valor_de_saida\n",
    "\n",
    "# G5\n",
    "def g5(V):\n",
    "    Valor_de_saida = V - (V**3+4*V**2-10)/(3*V**2+8*V)\n",
    "    return Valor_de_saida"
   ]
  },
  {
   "cell_type": "code",
   "execution_count": 37,
   "metadata": {},
   "outputs": [],
   "source": [
    "# Função que chama realiza as iteações de Ponto Fixo\n",
    "def Ponto_Fixo(Funcao,Chute_inicial,Tolerancia):\n",
    "    Erro = 1\n",
    "    Contador = 0\n",
    "    while abs(Erro) > (10**(-Tolerancia)):\n",
    "        Valor_novo = Funcao(Chute_inicial)\n",
    "        Erro = Valor_novo - Chute_inicial\n",
    "        Chute_inicial = Valor_novo\n",
    "        Contador += 1\n",
    "    \n",
    "    return Contador,Valor_novo"
   ]
  },
  {
   "cell_type": "code",
   "execution_count": 38,
   "metadata": {},
   "outputs": [
    {
     "name": "stdout",
     "output_type": "stream",
     "text": [
      "(19, 1.3652320064858563) (8, 1.3652297782245384) (23, 1.3652300134278788)\n"
     ]
    }
   ],
   "source": [
    "#R_g1 = Ponto_Fixo(g1,-1,2) #Não Converge\n",
    "#R_g2 = Ponto_Fixo(g2,-2,5) #Não Converge\n",
    "R_g3 = Ponto_Fixo(g3,-1,5) #Converge\n",
    "R_g4 = Ponto_Fixo(g4,-1,5) #Converge\n",
    "R_g5 = Ponto_Fixo(g5,-1,5) #Converge\n",
    "\n",
    "print(R_g3, R_g4, R_g5)\n",
    "\n",
    "\n",
    "# Agora gera uma planilha com esses resultados enumerando por iteração\n"
   ]
  },
  {
   "cell_type": "markdown",
   "metadata": {},
   "source": [
    "### Método de Newton"
   ]
  },
  {
   "cell_type": "markdown",
   "metadata": {},
   "source": []
  }
 ],
 "metadata": {
  "kernelspec": {
   "display_name": "Python 3",
   "language": "python",
   "name": "python3"
  },
  "language_info": {
   "codemirror_mode": {
    "name": "ipython",
    "version": 3
   },
   "file_extension": ".py",
   "mimetype": "text/x-python",
   "name": "python",
   "nbconvert_exporter": "python",
   "pygments_lexer": "ipython3",
   "version": "3.12.5"
  }
 },
 "nbformat": 4,
 "nbformat_minor": 2
}
